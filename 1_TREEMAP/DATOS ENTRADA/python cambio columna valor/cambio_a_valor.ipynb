{
 "cells": [
  {
   "cell_type": "code",
   "execution_count": 13,
   "id": "37027b72-54a6-4b3c-a712-d3fe48ae1568",
   "metadata": {},
   "outputs": [
    {
     "name": "stdout",
     "output_type": "stream",
     "text": [
      "     Company     Valuation Date Joined                         Industry  \\\n",
      "0  Bytedance  1.800000e+11  2017-04-07          Artificial intelligence   \n",
      "1     SpaceX  1.000000e+11  2012-12-01                            Other   \n",
      "2      SHEIN  1.000000e+11  2018-07-03  E-commerce & direct-to-consumer   \n",
      "3     Stripe  9.500000e+10  2014-01-23                          Fintech   \n",
      "4     Klarna  4.600000e+10  2011-12-12                          Fintech   \n",
      "\n",
      "            City        Country      Continent  Year Founded Funding  \\\n",
      "0        Beijing          China           Asia          2012     $8B   \n",
      "1      Hawthorne  United States  North America          2002     $7B   \n",
      "2       Shenzhen          China           Asia          2008     $2B   \n",
      "3  San Francisco  United States  North America          2010     $2B   \n",
      "4      Stockholm         Sweden         Europe          2005     $4B   \n",
      "\n",
      "                                    Select Investors  \n",
      "0  Sequoia Capital China, SIG Asia Investments, S...  \n",
      "1  Founders Fund, Draper Fisher Jurvetson, Rothen...  \n",
      "2  Tiger Global Management, Sequoia Capital China...  \n",
      "3        Khosla Ventures, LowercaseCapital, capitalG  \n",
      "4  Institutional Venture Partners, Sequoia Capita...  \n"
     ]
    }
   ],
   "source": [
    "import pandas as pd\n",
    "\n",
    "# Leer el archivo Excel\n",
    "df = pd.read_excel('Unicorn_Companies.xlsx', engine='openpyxl')\n",
    "\n",
    "# Función para convertir el formato \"$180B\" a número\n",
    "def convertir_valor(valor):\n",
    "    if pd.isna(valor):  # Si el valor es NaN, devolverlo tal cual\n",
    "        return None\n",
    "    valor = valor.replace('$', '')  # Eliminar el símbolo del dólar\n",
    "    if valor.endswith('B'):  # Si termina con \"B\" (billones)\n",
    "        return float(valor[:-1]) * 1e9  # Convertir a número completo (billones)\n",
    "    elif valor.endswith('M'):  # Si termina con \"M\" (millones)\n",
    "        return float(valor[:-1]) * 1e6  # Convertir a número completo (millones)\n",
    "    else:\n",
    "        return float(valor)  # Si no tiene \"B\" o \"M\", devolver el número tal cual\n",
    "\n",
    "# Aplicar la función de conversión a la columna 'Valuation' y 'Funding'\n",
    "df['Valuation'] = df['Valuation'].apply(convertir_valor)\n",
    "\n",
    "# Mostrar las primeras filas para verificar la transformación\n",
    "print(df.head())\n",
    "\n",
    "# Guardar el archivo con las nuevas modificaciones\n",
    "df.to_excel('Unicorn_Companies_v02.xlsx', index=False, engine='openpyxl')\n"
   ]
  },
  {
   "cell_type": "code",
   "execution_count": null,
   "id": "d93a7213-121c-401c-aa14-92053c5bde98",
   "metadata": {},
   "outputs": [],
   "source": []
  }
 ],
 "metadata": {
  "kernelspec": {
   "display_name": "Python 3 (ipykernel)",
   "language": "python",
   "name": "python3"
  },
  "language_info": {
   "codemirror_mode": {
    "name": "ipython",
    "version": 3
   },
   "file_extension": ".py",
   "mimetype": "text/x-python",
   "name": "python",
   "nbconvert_exporter": "python",
   "pygments_lexer": "ipython3",
   "version": "3.12.4"
  }
 },
 "nbformat": 4,
 "nbformat_minor": 5
}
